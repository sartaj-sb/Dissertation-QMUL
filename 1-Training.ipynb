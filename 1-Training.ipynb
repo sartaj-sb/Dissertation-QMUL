{
  "nbformat": 4,
  "nbformat_minor": 0,
  "metadata": {
    "colab": {
      "provenance": [],
      "gpuType": "V100"
    },
    "kernelspec": {
      "name": "python3",
      "display_name": "Python 3"
    },
    "language_info": {
      "name": "python"
    },
    "accelerator": "GPU"
  },
  "cells": [
    {
      "cell_type": "markdown",
      "source": [
        "## Tomato Leaf Disease Classification using CNN -  MobileNetV2 - Transfer Learning based approach.\n",
        "\n"
      ],
      "metadata": {
        "id": "c54X2sLT2_bq"
      }
    },
    {
      "cell_type": "markdown",
      "source": [
        "Name: Sartaj Sudheer Babu\n",
        "\n",
        "---\n",
        "\n",
        "\n",
        "Student ID: 220684636"
      ],
      "metadata": {
        "id": "IY_drskucfKl"
      }
    },
    {
      "cell_type": "markdown",
      "source": [
        "**Extracting the dataset from the disk**"
      ],
      "metadata": {
        "id": "0gOCOrvYaK5Y"
      }
    },
    {
      "cell_type": "code",
      "source": [
        "import zipfile\n",
        "\n",
        "zip_path = '/content/Tomato_ Train_Valid.zip'  # Replace with the path to your zip file\n",
        "\n",
        "with zipfile.ZipFile(zip_path, 'r') as zip_ref:\n",
        "    zip_ref.extractall('/content')  # Replace with the path to the directory where you want to extract the files\n"
      ],
      "metadata": {
        "id": "qLTzf_nsFDGr"
      },
      "execution_count": null,
      "outputs": []
    },
    {
      "cell_type": "code",
      "source": [
        "import zipfile\n",
        "\n",
        "# Path to the zip file\n",
        "zip_path = '/content/Tomato_ Train_Valid.zip'\n",
        "\n",
        "# Path to the directory where you want to extract the files\n",
        "extract_path = '/content/extract'\n",
        "\n",
        "# Extract the zip file\n",
        "with zipfile.ZipFile(zip_path, 'r') as zip_ref:\n",
        "    zip_ref.extractall(extract_path)\n",
        "\n",
        "print(\"Extraction completed.\")"
      ],
      "metadata": {
        "id": "kGgHFNxswRfD"
      },
      "execution_count": null,
      "outputs": []
    },
    {
      "cell_type": "code",
      "execution_count": null,
      "metadata": {
        "id": "qzYN_T80Zivh",
        "colab": {
          "base_uri": "https://localhost:8080/"
        },
        "outputId": "97b18487-bac5-4837-8590-0a2c1c4fc6e2"
      },
      "outputs": [
        {
          "output_type": "stream",
          "name": "stdout",
          "text": [
            "\n",
            "7-Zip [64] 16.02 : Copyright (c) 1999-2016 Igor Pavlov : 2016-05-21\n",
            "p7zip Version 16.02 (locale=en_US.UTF-8,Utf16=on,HugeFiles=on,64 bits,2 CPUs Intel(R) Xeon(R) CPU @ 2.20GHz (406F0),ASM,AES-NI)\n",
            "\n",
            "Scanning the drive for archives:\n",
            "  0M Scan\b\b\b\b\b\b\b\b\b         \b\b\b\b\b\b\b\b\b\n",
            "ERROR: No more files\n",
            "Tomato_Train_Valid.zip\n",
            "\n",
            "\n",
            "\n",
            "System ERROR:\n",
            "Unknown error -2147024872\n"
          ]
        }
      ],
      "source": [
        "!7z x Tomato_Train_Valid.zip\n"
      ]
    },
    {
      "cell_type": "code",
      "source": [
        "from google.colab import drive\n",
        "drive.mount('/content/drive')"
      ],
      "metadata": {
        "id": "z7XNYpY9gzCL"
      },
      "execution_count": null,
      "outputs": []
    },
    {
      "cell_type": "markdown",
      "source": [
        "**To ensure GPU is allocated**"
      ],
      "metadata": {
        "id": "JeslzBAh2wzH"
      }
    },
    {
      "cell_type": "code",
      "execution_count": null,
      "metadata": {
        "colab": {
          "base_uri": "https://localhost:8080/"
        },
        "id": "OXKXWduOzIw0",
        "outputId": "168a8304-addb-486b-b388-a5610eb66711"
      },
      "outputs": [
        {
          "output_type": "stream",
          "name": "stdout",
          "text": [
            "Found GPU at: /device:GPU:0\n"
          ]
        }
      ],
      "source": [
        "import tensorflow as tf\n",
        "device_name = tf.test.gpu_device_name()\n",
        "if device_name != '/device:GPU:0':\n",
        "  raise SystemError('GPU device not found')\n",
        "print('Found GPU at: {}'.format(device_name))"
      ]
    },
    {
      "cell_type": "markdown",
      "source": [
        "**Importing Libraries**"
      ],
      "metadata": {
        "id": "yx9hGkvhqEx1"
      }
    },
    {
      "cell_type": "code",
      "source": [
        "import tensorflow as tf\n",
        "from tensorflow import keras\n",
        "from tensorflow.keras.layers import Input, Lambda, Dense, Flatten, BatchNormalization, Dropout\n",
        "from tensorflow.keras.models import Model\n",
        "from tensorflow.keras.preprocessing import image\n",
        "from tensorflow.keras.preprocessing.image import ImageDataGenerator,load_img\n",
        "from tensorflow.keras.models import Sequential\n",
        "import numpy as np\n",
        "from glob import glob"
      ],
      "metadata": {
        "id": "bK7u6GUdn0Wr"
      },
      "execution_count": null,
      "outputs": []
    },
    {
      "cell_type": "markdown",
      "source": [
        "**Path to Directories containing images and setting input image size**"
      ],
      "metadata": {
        "id": "eq2rH5YdqsyE"
      }
    },
    {
      "cell_type": "code",
      "source": [
        "train_path = '/content/Tomato_ Train_Valid/train'\n",
        "valid_path = '/content/Tomato_ Train_Valid/val'\n",
        "IMAGE_SIZE = [224, 224]"
      ],
      "metadata": {
        "id": "Hvp4uGXpq1Eg"
      },
      "execution_count": null,
      "outputs": []
    },
    {
      "cell_type": "markdown",
      "source": [
        "**Loading MobileNetV2 pre-trained on ImageNet without the top layer**"
      ],
      "metadata": {
        "id": "daqCzcxirxI8"
      }
    },
    {
      "cell_type": "code",
      "source": [
        "base_model = tf.keras.applications.MobileNetV2(input_shape=IMAGE_SIZE + [3],\n",
        "                                               include_top=False,\n",
        "                                               weights='imagenet')"
      ],
      "metadata": {
        "id": "JuX7s3fMrwFt"
      },
      "execution_count": null,
      "outputs": []
    },
    {
      "cell_type": "markdown",
      "source": [
        "Number of layers in the base model"
      ],
      "metadata": {
        "id": "0DcjD5ZC3zoF"
      }
    },
    {
      "cell_type": "code",
      "source": [
        "len(base_model.layers)"
      ],
      "metadata": {
        "id": "TVepLwpz34Sv",
        "colab": {
          "base_uri": "https://localhost:8080/"
        },
        "outputId": "eadf9e2a-0304-4d59-9545-11e43d04387e"
      },
      "execution_count": null,
      "outputs": [
        {
          "output_type": "execute_result",
          "data": {
            "text/plain": [
              "154"
            ]
          },
          "metadata": {},
          "execution_count": 18
        }
      ]
    },
    {
      "cell_type": "markdown",
      "source": [
        "**Freezing the base model**"
      ],
      "metadata": {
        "id": "mIFfsKR4rXsm"
      }
    },
    {
      "cell_type": "code",
      "source": [
        "base_model.trainable = True"
      ],
      "metadata": {
        "id": "Brc0_BcY38Df"
      },
      "execution_count": null,
      "outputs": []
    },
    {
      "cell_type": "markdown",
      "source": [
        "**model.summary() function for displaying the architecture of the base model.**"
      ],
      "metadata": {
        "id": "R1XayV_Vs7f9"
      }
    },
    {
      "cell_type": "code",
      "source": [
        "base_model.summary()"
      ],
      "metadata": {
        "id": "q2dBgTY6s7EP"
      },
      "execution_count": null,
      "outputs": []
    },
    {
      "cell_type": "markdown",
      "source": [
        "**Getting the number of classses**"
      ],
      "metadata": {
        "id": "TLtaQMaAueQW"
      }
    },
    {
      "cell_type": "code",
      "source": [
        "folders = glob('/content/Tomato_ Train_Valid/train/*')\n",
        "num_classes = len(folders)\n",
        "num_classes\n"
      ],
      "metadata": {
        "id": "irZiDJuluW65",
        "colab": {
          "base_uri": "https://localhost:8080/"
        },
        "outputId": "75c2f5ad-c1db-4c7e-b7d7-35ddce09c439"
      },
      "execution_count": null,
      "outputs": [
        {
          "output_type": "execute_result",
          "data": {
            "text/plain": [
              "10"
            ]
          },
          "metadata": {},
          "execution_count": 21
        }
      ]
    },
    {
      "cell_type": "markdown",
      "source": [
        "**Building the complete model architecture by adding a classification head to the base model.**"
      ],
      "metadata": {
        "id": "uSDPUTnfuuzu"
      }
    },
    {
      "cell_type": "code",
      "source": [
        "h1 = BatchNormalization()(base_model.output)\n",
        "h2 = Dense(128,activation = 'relu')(h1)\n",
        "h3 = Dropout(0.5)(h2)\n",
        "h4 = Dense(64,activation = 'relu')(h3)\n",
        "h5 = BatchNormalization()(h4)\n",
        "h6 = Flatten()(h5)\n",
        "prediction = Dense(num_classes, activation='softmax')(h6)\n",
        "model = Model(inputs=base_model.input, outputs=prediction)"
      ],
      "metadata": {
        "id": "3QIV2A82bTWd"
      },
      "execution_count": null,
      "outputs": []
    },
    {
      "cell_type": "code",
      "source": [
        "model.summary()"
      ],
      "metadata": {
        "id": "sOkjTUfa4ZfJ"
      },
      "execution_count": null,
      "outputs": []
    },
    {
      "cell_type": "markdown",
      "source": [
        "**Compile the model**"
      ],
      "metadata": {
        "id": "MMpi-cjr7t33"
      }
    },
    {
      "cell_type": "code",
      "source": [
        "model.compile(\n",
        "  loss='categorical_crossentropy',\n",
        "  optimizer='adam',\n",
        "  metrics=['accuracy']\n",
        ")"
      ],
      "metadata": {
        "id": "7jeX3TjKy7uv"
      },
      "execution_count": null,
      "outputs": []
    },
    {
      "cell_type": "markdown",
      "source": [
        "**Data Augmentation and preprocessing**"
      ],
      "metadata": {
        "id": "MV1vHmtCfTr7"
      }
    },
    {
      "cell_type": "code",
      "source": [
        "# Use the Image Data Generator to import the images from the dataset\n",
        "from tensorflow.keras.preprocessing.image import ImageDataGenerator\n",
        "\n",
        "train_datagen = ImageDataGenerator(\n",
        "                                   rescale = 1./255,\n",
        "                                   shear_range = 0.2, # apply shear transformation randomly within the range of 0.2\n",
        "                                   rotation_range = 20, # rotate images randomly within the range of 20 degrees\n",
        "                                   width_shift_range = 0.2, #  Shift the width of images randomly within the range of 0.2\n",
        "                                   height_shift_range = 0.2, # Shift the height of images randomly within the range of 0.2\n",
        "                                   zoom_range = 0.2, # Zoom into images randomly within the range of 0.2\n",
        "                                   horizontal_flip = True  # Flip images horizontally randomly\n",
        ")\n",
        "\n",
        "valid_datagen = ImageDataGenerator(rescale = 1./255)\n"
      ],
      "metadata": {
        "id": "-9Nnbb3R9GrH"
      },
      "execution_count": null,
      "outputs": []
    },
    {
      "cell_type": "code",
      "source": [
        "# Make sure you provide the same target size as initialied for the image size\n",
        "training_set = train_datagen.flow_from_directory(train_path,\n",
        "                                                 target_size = (224, 224),\n",
        "                                                 batch_size = 16,\n",
        "                                                 class_mode = 'categorical')\n",
        "\n",
        "valid_set = valid_datagen.flow_from_directory(valid_path,\n",
        "                                            target_size = (224, 224),\n",
        "                                            batch_size = 16,\n",
        "                                            class_mode = 'categorical')\n"
      ],
      "metadata": {
        "colab": {
          "base_uri": "https://localhost:8080/"
        },
        "id": "dbrb39pUf6KN",
        "outputId": "c884f9ba-fdbf-4d83-e729-387a890d564e"
      },
      "execution_count": null,
      "outputs": [
        {
          "output_type": "stream",
          "name": "stdout",
          "text": [
            "Found 10892 images belonging to 10 classes.\n",
            "Found 3628 images belonging to 10 classes.\n"
          ]
        }
      ]
    },
    {
      "cell_type": "markdown",
      "source": [
        "For saving the model after every 10 epochs"
      ],
      "metadata": {
        "id": "97a8jpzl-rT9"
      }
    },
    {
      "cell_type": "code",
      "source": [
        "from tensorflow.keras.callbacks import ModelCheckpoint\n",
        "\n",
        "\n",
        "\n",
        "checkpoint = ModelCheckpoint('/content/saved_models/model-{epoch:01d}.h5', save_weights_only=False, period=3)\n"
      ],
      "metadata": {
        "id": "xTwTNBWo-pR7"
      },
      "execution_count": null,
      "outputs": []
    },
    {
      "cell_type": "markdown",
      "source": [
        "**Training the model**"
      ],
      "metadata": {
        "id": "NIrIrqz-hIG3"
      }
    },
    {
      "cell_type": "code",
      "source": [
        "history= model.fit(\n",
        "    training_set,\n",
        "    validation_data=valid_set,\n",
        "    epochs=100,\n",
        "    steps_per_epoch=len(training_set),\n",
        "    validation_steps=len(valid_set),\n",
        "    callbacks=[checkpoint]\n",
        ")"
      ],
      "metadata": {
        "colab": {
          "base_uri": "https://localhost:8080/"
        },
        "id": "q9T6uprOgY5r",
        "outputId": "03678b48-af33-4f64-d313-41ef497ef89d"
      },
      "execution_count": null,
      "outputs": [
        {
          "output_type": "stream",
          "name": "stdout",
          "text": [
            "Epoch 1/100\n",
            "681/681 [==============================] - 183s 227ms/step - loss: 0.8308 - accuracy: 0.7371 - val_loss: 12.4315 - val_accuracy: 0.2878\n",
            "Epoch 2/100\n",
            "681/681 [==============================] - 154s 226ms/step - loss: 0.4246 - accuracy: 0.8705 - val_loss: 5.5642 - val_accuracy: 0.1386\n",
            "Epoch 3/100\n",
            "681/681 [==============================] - 157s 230ms/step - loss: 0.4448 - accuracy: 0.8672 - val_loss: 9.4394 - val_accuracy: 0.2293\n",
            "Epoch 4/100\n",
            "681/681 [==============================] - 154s 226ms/step - loss: 0.2951 - accuracy: 0.9085 - val_loss: 3.2910 - val_accuracy: 0.6684\n",
            "Epoch 5/100\n",
            "681/681 [==============================] - 154s 226ms/step - loss: 0.3090 - accuracy: 0.9081 - val_loss: 12.4836 - val_accuracy: 0.1384\n",
            "Epoch 6/100\n",
            "681/681 [==============================] - 158s 232ms/step - loss: 0.3091 - accuracy: 0.9108 - val_loss: 5.3426 - val_accuracy: 0.4454\n",
            "Epoch 7/100\n",
            "681/681 [==============================] - 155s 227ms/step - loss: 0.2443 - accuracy: 0.9232 - val_loss: 2.5545 - val_accuracy: 0.5786\n",
            "Epoch 8/100\n",
            "681/681 [==============================] - 155s 227ms/step - loss: 0.2501 - accuracy: 0.9243 - val_loss: 8.2335 - val_accuracy: 0.1965\n",
            "Epoch 9/100\n",
            "681/681 [==============================] - 154s 226ms/step - loss: 0.1871 - accuracy: 0.9406 - val_loss: 2.1618 - val_accuracy: 0.6472\n",
            "Epoch 10/100\n",
            "681/681 [==============================] - 155s 228ms/step - loss: 0.3060 - accuracy: 0.9191 - val_loss: 1.4338 - val_accuracy: 0.6968\n",
            "Epoch 11/100\n",
            "681/681 [==============================] - 154s 226ms/step - loss: 0.1518 - accuracy: 0.9521 - val_loss: 0.4694 - val_accuracy: 0.8773\n",
            "Epoch 12/100\n",
            "681/681 [==============================] - 154s 226ms/step - loss: 0.1398 - accuracy: 0.9543 - val_loss: 0.8788 - val_accuracy: 0.8479\n",
            "Epoch 13/100\n",
            "681/681 [==============================] - 155s 227ms/step - loss: 0.1808 - accuracy: 0.9434 - val_loss: 2.2030 - val_accuracy: 0.6207\n",
            "Epoch 14/100\n",
            "681/681 [==============================] - 155s 227ms/step - loss: 0.1614 - accuracy: 0.9485 - val_loss: 2.6662 - val_accuracy: 0.6061\n",
            "Epoch 15/100\n",
            "681/681 [==============================] - 156s 229ms/step - loss: 0.1558 - accuracy: 0.9523 - val_loss: 1.2229 - val_accuracy: 0.7641\n",
            "Epoch 16/100\n",
            "681/681 [==============================] - 155s 228ms/step - loss: 0.1196 - accuracy: 0.9618 - val_loss: 0.1088 - val_accuracy: 0.9697\n",
            "Epoch 17/100\n",
            "681/681 [==============================] - 168s 247ms/step - loss: 0.1161 - accuracy: 0.9629 - val_loss: 0.2773 - val_accuracy: 0.9303\n",
            "Epoch 18/100\n",
            "681/681 [==============================] - 155s 228ms/step - loss: 0.1436 - accuracy: 0.9551 - val_loss: 0.6134 - val_accuracy: 0.8826\n",
            "Epoch 19/100\n",
            "681/681 [==============================] - 155s 227ms/step - loss: 0.1038 - accuracy: 0.9665 - val_loss: 2.4563 - val_accuracy: 0.7059\n",
            "Epoch 20/100\n",
            "681/681 [==============================] - 155s 228ms/step - loss: 0.1270 - accuracy: 0.9631 - val_loss: 0.3992 - val_accuracy: 0.9060\n",
            "Epoch 21/100\n",
            "681/681 [==============================] - 157s 230ms/step - loss: 0.1109 - accuracy: 0.9653 - val_loss: 0.2159 - val_accuracy: 0.9443\n",
            "Epoch 22/100\n",
            "681/681 [==============================] - 154s 227ms/step - loss: 0.0963 - accuracy: 0.9680 - val_loss: 0.6238 - val_accuracy: 0.8454\n",
            "Epoch 23/100\n",
            "681/681 [==============================] - 155s 228ms/step - loss: 0.1006 - accuracy: 0.9671 - val_loss: 0.2298 - val_accuracy: 0.9377\n",
            "Epoch 24/100\n",
            "681/681 [==============================] - 154s 226ms/step - loss: 0.0818 - accuracy: 0.9724 - val_loss: 0.1007 - val_accuracy: 0.9700\n",
            "Epoch 25/100\n",
            "681/681 [==============================] - 154s 227ms/step - loss: 0.0990 - accuracy: 0.9680 - val_loss: 0.2095 - val_accuracy: 0.9485\n",
            "Epoch 26/100\n",
            "681/681 [==============================] - 153s 225ms/step - loss: 0.0861 - accuracy: 0.9727 - val_loss: 0.1530 - val_accuracy: 0.9485\n",
            "Epoch 27/100\n",
            "681/681 [==============================] - 156s 229ms/step - loss: 0.0914 - accuracy: 0.9711 - val_loss: 0.1751 - val_accuracy: 0.9545\n",
            "Epoch 28/100\n",
            "681/681 [==============================] - 153s 224ms/step - loss: 0.1163 - accuracy: 0.9652 - val_loss: 1.5451 - val_accuracy: 0.7423\n",
            "Epoch 29/100\n",
            "681/681 [==============================] - 153s 225ms/step - loss: 0.0725 - accuracy: 0.9764 - val_loss: 0.3275 - val_accuracy: 0.9046\n",
            "Epoch 30/100\n",
            "681/681 [==============================] - 154s 226ms/step - loss: 0.0730 - accuracy: 0.9769 - val_loss: 0.2752 - val_accuracy: 0.9231\n",
            "Epoch 31/100\n",
            "681/681 [==============================] - 154s 227ms/step - loss: 0.0763 - accuracy: 0.9753 - val_loss: 0.6150 - val_accuracy: 0.8600\n",
            "Epoch 32/100\n",
            "681/681 [==============================] - 153s 225ms/step - loss: 0.0925 - accuracy: 0.9723 - val_loss: 0.7926 - val_accuracy: 0.8258\n",
            "Epoch 33/100\n",
            "681/681 [==============================] - 153s 225ms/step - loss: 0.0696 - accuracy: 0.9783 - val_loss: 0.1386 - val_accuracy: 0.9551\n",
            "Epoch 34/100\n",
            "681/681 [==============================] - 154s 226ms/step - loss: 0.0579 - accuracy: 0.9815 - val_loss: 0.1556 - val_accuracy: 0.9603\n",
            "Epoch 35/100\n",
            "681/681 [==============================] - 155s 228ms/step - loss: 0.0667 - accuracy: 0.9792 - val_loss: 1.6384 - val_accuracy: 0.6985\n",
            "Epoch 36/100\n",
            "681/681 [==============================] - 155s 227ms/step - loss: 0.0647 - accuracy: 0.9781 - val_loss: 0.3442 - val_accuracy: 0.9049\n",
            "Epoch 37/100\n",
            "681/681 [==============================] - 155s 227ms/step - loss: 0.0579 - accuracy: 0.9805 - val_loss: 0.2284 - val_accuracy: 0.9435\n",
            "Epoch 38/100\n",
            "681/681 [==============================] - 154s 227ms/step - loss: 0.0628 - accuracy: 0.9793 - val_loss: 0.3081 - val_accuracy: 0.9192\n",
            "Epoch 39/100\n",
            "681/681 [==============================] - 154s 226ms/step - loss: 0.0598 - accuracy: 0.9816 - val_loss: 0.9199 - val_accuracy: 0.8060\n",
            "Epoch 40/100\n",
            "681/681 [==============================] - 153s 224ms/step - loss: 0.0591 - accuracy: 0.9804 - val_loss: 0.4526 - val_accuracy: 0.9049\n",
            "Epoch 41/100\n",
            "681/681 [==============================] - 154s 226ms/step - loss: 0.0474 - accuracy: 0.9848 - val_loss: 0.1471 - val_accuracy: 0.9564\n",
            "Epoch 42/100\n",
            "681/681 [==============================] - 156s 229ms/step - loss: 0.0736 - accuracy: 0.9779 - val_loss: 0.3598 - val_accuracy: 0.9176\n",
            "Epoch 43/100\n",
            "681/681 [==============================] - 153s 225ms/step - loss: 0.0555 - accuracy: 0.9823 - val_loss: 0.1145 - val_accuracy: 0.9658\n",
            "Epoch 44/100\n",
            "681/681 [==============================] - 153s 225ms/step - loss: 0.0481 - accuracy: 0.9838 - val_loss: 0.0748 - val_accuracy: 0.9785\n",
            "Epoch 45/100\n",
            "681/681 [==============================] - 154s 225ms/step - loss: 0.0508 - accuracy: 0.9827 - val_loss: 0.2810 - val_accuracy: 0.9303\n",
            "Epoch 46/100\n",
            "681/681 [==============================] - 154s 227ms/step - loss: 0.0443 - accuracy: 0.9844 - val_loss: 0.1464 - val_accuracy: 0.9598\n",
            "Epoch 47/100\n",
            "681/681 [==============================] - 156s 228ms/step - loss: 0.0459 - accuracy: 0.9859 - val_loss: 2.0053 - val_accuracy: 0.7464\n",
            "Epoch 48/100\n",
            "681/681 [==============================] - 154s 225ms/step - loss: 0.0413 - accuracy: 0.9874 - val_loss: 0.1947 - val_accuracy: 0.9474\n",
            "Epoch 49/100\n",
            "681/681 [==============================] - 153s 224ms/step - loss: 0.0479 - accuracy: 0.9843 - val_loss: 0.1783 - val_accuracy: 0.9573\n",
            "Epoch 50/100\n",
            "681/681 [==============================] - 153s 224ms/step - loss: 0.0405 - accuracy: 0.9885 - val_loss: 0.3516 - val_accuracy: 0.9195\n",
            "Epoch 51/100\n",
            "681/681 [==============================] - 156s 229ms/step - loss: 0.0452 - accuracy: 0.9863 - val_loss: 0.2573 - val_accuracy: 0.9399\n",
            "Epoch 52/100\n",
            "681/681 [==============================] - 153s 225ms/step - loss: 0.0437 - accuracy: 0.9860 - val_loss: 0.0575 - val_accuracy: 0.9810\n",
            "Epoch 53/100\n",
            "681/681 [==============================] - 156s 229ms/step - loss: 0.0401 - accuracy: 0.9870 - val_loss: 0.4233 - val_accuracy: 0.9198\n",
            "Epoch 54/100\n",
            "681/681 [==============================] - 154s 226ms/step - loss: 0.0494 - accuracy: 0.9837 - val_loss: 1.1545 - val_accuracy: 0.7800\n",
            "Epoch 55/100\n",
            "681/681 [==============================] - 154s 226ms/step - loss: 0.0454 - accuracy: 0.9859 - val_loss: 0.2697 - val_accuracy: 0.9314\n",
            "Epoch 56/100\n",
            "681/681 [==============================] - 153s 224ms/step - loss: 0.0530 - accuracy: 0.9840 - val_loss: 0.0740 - val_accuracy: 0.9777\n",
            "Epoch 57/100\n",
            "681/681 [==============================] - 153s 225ms/step - loss: 0.0376 - accuracy: 0.9882 - val_loss: 0.0976 - val_accuracy: 0.9735\n",
            "Epoch 58/100\n",
            "681/681 [==============================] - 153s 225ms/step - loss: 0.0383 - accuracy: 0.9878 - val_loss: 0.1238 - val_accuracy: 0.9655\n",
            "Epoch 59/100\n",
            "681/681 [==============================] - 153s 225ms/step - loss: 0.0352 - accuracy: 0.9890 - val_loss: 0.4636 - val_accuracy: 0.9010\n",
            "Epoch 60/100\n",
            "681/681 [==============================] - 155s 227ms/step - loss: 0.0450 - accuracy: 0.9861 - val_loss: 0.0611 - val_accuracy: 0.9799\n",
            "Epoch 61/100\n",
            "681/681 [==============================] - 153s 225ms/step - loss: 0.0296 - accuracy: 0.9896 - val_loss: 0.3340 - val_accuracy: 0.9308\n",
            "Epoch 62/100\n",
            "681/681 [==============================] - 155s 227ms/step - loss: 0.0363 - accuracy: 0.9864 - val_loss: 0.3962 - val_accuracy: 0.9217\n",
            "Epoch 63/100\n",
            "681/681 [==============================] - 154s 226ms/step - loss: 0.0294 - accuracy: 0.9911 - val_loss: 0.1631 - val_accuracy: 0.9617\n",
            "Epoch 64/100\n",
            "681/681 [==============================] - 154s 226ms/step - loss: 0.0371 - accuracy: 0.9889 - val_loss: 0.0892 - val_accuracy: 0.9779\n",
            "Epoch 65/100\n",
            "681/681 [==============================] - 153s 224ms/step - loss: 0.0391 - accuracy: 0.9874 - val_loss: 0.1136 - val_accuracy: 0.9708\n",
            "Epoch 66/100\n",
            "681/681 [==============================] - 157s 231ms/step - loss: 0.0419 - accuracy: 0.9860 - val_loss: 0.1616 - val_accuracy: 0.9534\n",
            "Epoch 67/100\n",
            "681/681 [==============================] - 154s 225ms/step - loss: 0.0329 - accuracy: 0.9892 - val_loss: 0.2309 - val_accuracy: 0.9322\n",
            "Epoch 68/100\n",
            "681/681 [==============================] - 153s 225ms/step - loss: 0.0290 - accuracy: 0.9907 - val_loss: 0.1242 - val_accuracy: 0.9611\n",
            "Epoch 69/100\n",
            "681/681 [==============================] - 155s 227ms/step - loss: 0.0288 - accuracy: 0.9904 - val_loss: 0.2046 - val_accuracy: 0.9366\n",
            "Epoch 70/100\n",
            "681/681 [==============================] - 154s 226ms/step - loss: 0.0368 - accuracy: 0.9888 - val_loss: 2.2555 - val_accuracy: 0.7304\n",
            "Epoch 71/100\n",
            "681/681 [==============================] - 156s 229ms/step - loss: 0.0283 - accuracy: 0.9904 - val_loss: 0.1536 - val_accuracy: 0.9609\n",
            "Epoch 72/100\n",
            "681/681 [==============================] - 157s 230ms/step - loss: 0.0312 - accuracy: 0.9897 - val_loss: 0.0567 - val_accuracy: 0.9826\n",
            "Epoch 73/100\n",
            "681/681 [==============================] - 154s 225ms/step - loss: 0.0355 - accuracy: 0.9881 - val_loss: 0.7907 - val_accuracy: 0.8324\n",
            "Epoch 74/100\n",
            "681/681 [==============================] - 153s 225ms/step - loss: 0.0315 - accuracy: 0.9890 - val_loss: 0.1926 - val_accuracy: 0.9410\n",
            "Epoch 75/100\n",
            "681/681 [==============================] - 154s 226ms/step - loss: 0.0266 - accuracy: 0.9914 - val_loss: 0.3663 - val_accuracy: 0.9093\n",
            "Epoch 76/100\n",
            "681/681 [==============================] - 153s 225ms/step - loss: 0.0255 - accuracy: 0.9922 - val_loss: 0.0600 - val_accuracy: 0.9846\n",
            "Epoch 77/100\n",
            "681/681 [==============================] - 156s 229ms/step - loss: 0.0286 - accuracy: 0.9904 - val_loss: 0.9164 - val_accuracy: 0.8288\n",
            "Epoch 78/100\n",
            "681/681 [==============================] - 154s 227ms/step - loss: 0.0293 - accuracy: 0.9902 - val_loss: 0.5414 - val_accuracy: 0.8710\n",
            "Epoch 79/100\n",
            "681/681 [==============================] - 155s 228ms/step - loss: 0.0345 - accuracy: 0.9902 - val_loss: 0.0998 - val_accuracy: 0.9735\n",
            "Epoch 80/100\n",
            "681/681 [==============================] - 153s 225ms/step - loss: 0.0253 - accuracy: 0.9916 - val_loss: 0.0275 - val_accuracy: 0.9923\n",
            "Epoch 81/100\n",
            "681/681 [==============================] - 154s 226ms/step - loss: 0.0320 - accuracy: 0.9896 - val_loss: 0.2946 - val_accuracy: 0.9275\n",
            "Epoch 82/100\n",
            "681/681 [==============================] - 153s 225ms/step - loss: 0.0315 - accuracy: 0.9893 - val_loss: 0.1243 - val_accuracy: 0.9705\n",
            "Epoch 83/100\n",
            "681/681 [==============================] - 153s 225ms/step - loss: 0.0232 - accuracy: 0.9921 - val_loss: 0.0624 - val_accuracy: 0.9818\n",
            "Epoch 84/100\n",
            "681/681 [==============================] - 156s 230ms/step - loss: 0.0245 - accuracy: 0.9913 - val_loss: 0.2427 - val_accuracy: 0.9347\n",
            "Epoch 85/100\n",
            "681/681 [==============================] - 156s 229ms/step - loss: 0.0300 - accuracy: 0.9909 - val_loss: 0.2155 - val_accuracy: 0.9556\n",
            "Epoch 86/100\n",
            "681/681 [==============================] - 154s 226ms/step - loss: 0.0268 - accuracy: 0.9911 - val_loss: 0.5567 - val_accuracy: 0.8765\n",
            "Epoch 87/100\n",
            "681/681 [==============================] - 154s 226ms/step - loss: 0.0206 - accuracy: 0.9945 - val_loss: 0.0470 - val_accuracy: 0.9870\n",
            "Epoch 88/100\n",
            "681/681 [==============================] - 154s 227ms/step - loss: 0.0282 - accuracy: 0.9913 - val_loss: 0.2066 - val_accuracy: 0.9449\n",
            "Epoch 89/100\n",
            "681/681 [==============================] - 154s 226ms/step - loss: 0.0288 - accuracy: 0.9902 - val_loss: 0.1527 - val_accuracy: 0.9631\n",
            "Epoch 90/100\n",
            "681/681 [==============================] - 158s 231ms/step - loss: 0.0283 - accuracy: 0.9915 - val_loss: 0.1497 - val_accuracy: 0.9564\n",
            "Epoch 91/100\n",
            "681/681 [==============================] - 155s 228ms/step - loss: 0.0304 - accuracy: 0.9905 - val_loss: 0.3834 - val_accuracy: 0.9079\n",
            "Epoch 92/100\n",
            "681/681 [==============================] - 154s 227ms/step - loss: 0.0286 - accuracy: 0.9899 - val_loss: 0.2749 - val_accuracy: 0.9250\n",
            "Epoch 93/100\n",
            "681/681 [==============================] - 154s 226ms/step - loss: 0.0213 - accuracy: 0.9928 - val_loss: 0.0855 - val_accuracy: 0.9757\n",
            "Epoch 94/100\n",
            "681/681 [==============================] - 154s 226ms/step - loss: 0.0292 - accuracy: 0.9909 - val_loss: 0.2950 - val_accuracy: 0.9256\n",
            "Epoch 95/100\n",
            "681/681 [==============================] - 154s 226ms/step - loss: 0.0246 - accuracy: 0.9927 - val_loss: 0.1928 - val_accuracy: 0.9504\n",
            "Epoch 96/100\n",
            "681/681 [==============================] - 155s 227ms/step - loss: 0.0139 - accuracy: 0.9962 - val_loss: 0.0529 - val_accuracy: 0.9862\n",
            "Epoch 97/100\n",
            "681/681 [==============================] - 154s 226ms/step - loss: 0.0267 - accuracy: 0.9918 - val_loss: 0.2780 - val_accuracy: 0.9361\n",
            "Epoch 98/100\n",
            "681/681 [==============================] - 154s 226ms/step - loss: 0.0217 - accuracy: 0.9930 - val_loss: 0.3153 - val_accuracy: 0.9267\n",
            "Epoch 99/100\n",
            "681/681 [==============================] - 154s 226ms/step - loss: 0.0240 - accuracy: 0.9909 - val_loss: 0.4238 - val_accuracy: 0.8950\n",
            "Epoch 100/100\n",
            "681/681 [==============================] - 154s 226ms/step - loss: 0.0204 - accuracy: 0.9932 - val_loss: 0.1883 - val_accuracy: 0.9501\n"
          ]
        }
      ]
    },
    {
      "cell_type": "code",
      "source": [
        "import matplotlib.pyplot as plt\n",
        "# plot the loss\n",
        "plt.plot(history.history['loss'], label='train loss')\n",
        "plt.plot(history.history['val_loss'], label='val loss')\n",
        "plt.legend()\n",
        "plt.show()\n",
        "plt.savefig('LossVal_loss')\n",
        "\n",
        "# plot the accuracy\n",
        "plt.plot(history.history['accuracy'], label='train acc')\n",
        "plt.plot(history.history['val_accuracy'], label='val acc')\n",
        "plt.legend()\n",
        "plt.show()\n",
        "plt.savefig('AccVal_acc')"
      ],
      "metadata": {
        "colab": {
          "base_uri": "https://localhost:8080/",
          "height": 860
        },
        "id": "7fomUij5zBnx",
        "outputId": "14ccbe56-e353-4677-8bb4-1b32440702cb"
      },
      "execution_count": null,
      "outputs": [
        {
          "output_type": "display_data",
          "data": {
            "text/plain": [
              "<Figure size 640x480 with 1 Axes>"
            ],
            "image/png": "[encoded data removed]"
          },
          "metadata": {}
        },
        {
          "output_type": "display_data",
          "data": {
            "text/plain": [
              "<Figure size 640x480 with 1 Axes>"
            ],
            "image/png": "[encoded data removed]"
          },
          "metadata": {}
        },
        {
          "output_type": "display_data",
          "data": {
            "text/plain": [
              "<Figure size 640x480 with 0 Axes>"
            ]
          },
          "metadata": {}
        }
      ]
    },
    {
      "cell_type": "code",
      "source": [
        "# from tensorflow.keras.models import load_model\n",
        "\n",
        "model.save('TOMATO_val95_epo_100.h5')"
      ],
      "metadata": {
        "id": "XDOb25eIoaBt"
      },
      "execution_count": null,
      "outputs": []
    }
  ]
}
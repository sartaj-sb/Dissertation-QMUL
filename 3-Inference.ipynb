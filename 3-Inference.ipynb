{
  "nbformat": 4,
  "nbformat_minor": 0,
  "metadata": {
    "colab": {
      "provenance": []
    },
    "kernelspec": {
      "name": "python3",
      "display_name": "Python 3"
    },
    "language_info": {
      "name": "python"
    }
  },
  "cells": [
    {
      "cell_type": "markdown",
      "source": [
        "## Tomato Leaf Disease Classification using CNN -  MobileNetV2 - Transfer Learning based approach.\n",
        "\n"
      ],
      "metadata": {
        "id": "12OlDqr_jrc1"
      }
    },
    {
      "cell_type": "markdown",
      "source": [
        "Name: Sartaj Sudheer Babu\n",
        "\n",
        "---\n",
        "\n",
        "\n",
        "Student ID: 220684636"
      ],
      "metadata": {
        "id": "zcHgKSu5jq8j"
      }
    },
    {
      "cell_type": "markdown",
      "source": [
        "Inference on single image"
      ],
      "metadata": {
        "id": "oq0ti5Xn0Duy"
      }
    },
    {
      "cell_type": "code",
      "execution_count": null,
      "metadata": {
        "id": "wGZ3JFtcUkZc",
        "colab": {
          "base_uri": "https://localhost:8080/"
        },
        "outputId": "bdcec1bd-7a36-4ad1-f948-cac433605aef"
      },
      "outputs": [
        {
          "output_type": "stream",
          "name": "stdout",
          "text": [
            "1/1 [==============================] - 2s 2s/step\n",
            "Predicted class: 1\n"
          ]
        }
      ],
      "source": [
        "import tensorflow as tf\n",
        "from tensorflow import keras\n",
        "\n",
        "# Load the saved model\n",
        "model = keras.models.load_model('/content/drive/MyDrive/model_tomato.h5')\n",
        "\n",
        "# Load and preprocess a single image for inference\n",
        "image = keras.preprocessing.image.load_img('/content/image (382).JPG', target_size=(224, 224))\n",
        "image = keras.preprocessing.image.img_to_array(image)\n",
        "image = tf.expand_dims(image, axis=0)\n",
        "image = keras.applications.mobilenet_v2.preprocess_input(image)\n",
        "\n",
        "# Make predictions on the image\n",
        "predictions = model.predict(image)\n",
        "predicted_class = predictions.argmax(axis=-1)[0]\n",
        "\n",
        "# Print the predicted class\n",
        "print(\"Predicted class:\", predicted_class)"
      ]
    }
  ]
}